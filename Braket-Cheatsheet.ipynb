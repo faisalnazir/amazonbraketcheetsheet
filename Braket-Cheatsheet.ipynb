{
 "cells": [
  {
   "cell_type": "markdown",
   "id": "1556cb3e-5b19-4c7a-b688-7349113d5ced",
   "metadata": {},
   "source": [
    "# Amazon Braket Cheat Sheet"
   ]
  },
  {
   "cell_type": "markdown",
   "id": "4ce71156-c93c-42ac-8084-f72d6fa26b0d",
   "metadata": {},
   "source": [
    "Braket is the Quantum Computing SDK used to access the Amazon Braket Service from AWS. \n",
    "This short cheat sheet will help you work through the Manning Braket Live Project. "
   ]
  },
  {
   "cell_type": "markdown",
   "id": "e927842c-0191-4aec-a39a-0460f34d876d",
   "metadata": {},
   "source": [
    "### Installation\n",
    "\n",
    "To install python library to give you the tools to access object to create circuits, gates and to run circuits in either a local simulator which is included in the SDK or to access real quantum hardware available from the braket service using your AWS credentials (see https://docs.aws.amazon.com/general/latest/gr/aws-sec-cred-types.html)\n"
   ]
  },
  {
   "cell_type": "code",
   "execution_count": 4,
   "id": "c476f72f-a8f6-4f3f-b4a8-1e52a307c371",
   "metadata": {},
   "outputs": [],
   "source": [
    "#!pip install amazon-braket-sdk\n",
    "# Remove the comment above to install"
   ]
  },
  {
   "cell_type": "markdown",
   "id": "691af668-0011-4405-925e-9da6fa12a0d9",
   "metadata": {},
   "source": [
    "### Loading Braket into a Python Notebook "
   ]
  },
  {
   "cell_type": "code",
   "execution_count": 7,
   "id": "30e82562-7684-43d5-bfc5-e23f6947680f",
   "metadata": {},
   "outputs": [
    {
     "data": {
      "text/plain": [
       "'1.7.1'"
      ]
     },
     "execution_count": 7,
     "metadata": {},
     "output_type": "execute_result"
    }
   ],
   "source": [
    "import braket._sdk as braket_sdk\n",
    "braket_sdk.__version__"
   ]
  },
  {
   "cell_type": "markdown",
   "id": "5c2f0ebd-d64a-4c55-b6f2-cd4b303881eb",
   "metadata": {},
   "source": [
    "### Setting your device to Localsimulator\n",
    "\n",
    "The Amazon Braket Python SDK includes an implementation of quantum simulators that can run circuits on your local, classic hardware. For example the braket_sv local simulator is well suited for rapid prototyping on small circuits up to 25 qubits - which is dependent on you hardware memory and processor."
   ]
  },
  {
   "cell_type": "code",
   "execution_count": 8,
   "id": "61d52ad1-6129-4aaa-b549-914d34c60044",
   "metadata": {},
   "outputs": [],
   "source": [
    "from braket.devices import LocalSimulator\n",
    "device = LocalSimulator('braket_dm')"
   ]
  },
  {
   "cell_type": "code",
   "execution_count": 9,
   "id": "5bfc2e28-b5e9-40c5-a438-d1a7a58d6c73",
   "metadata": {},
   "outputs": [
    {
     "data": {
      "text/plain": [
       "<braket.devices.local_simulator.LocalSimulator at 0x11106a580>"
      ]
     },
     "execution_count": 9,
     "metadata": {},
     "output_type": "execute_result"
    }
   ],
   "source": [
    "device"
   ]
  },
  {
   "cell_type": "markdown",
   "id": "d9ddd44b-6aad-47f5-a56b-b9631f63b1c3",
   "metadata": {},
   "source": [
    "# Creating Quantum Circuits\n",
    "\n",
    "To start creating quantum circuits, you need to import the Circuit and Gate classes"
   ]
  },
  {
   "cell_type": "code",
   "execution_count": 12,
   "id": "cf3f24bb-5f19-4272-924f-126bc573eaaa",
   "metadata": {},
   "outputs": [],
   "source": [
    "from braket.circuits import Circuit, Gate"
   ]
  },
  {
   "cell_type": "markdown",
   "id": "4df12675-1458-4a73-bd8a-351865cee0d5",
   "metadata": {},
   "source": [
    "You can now instantiate the Circuit class to create a 'mycircuit' object"
   ]
  },
  {
   "cell_type": "code",
   "execution_count": 21,
   "id": "4efda3be-0039-46d1-a47d-091c86a09cdd",
   "metadata": {},
   "outputs": [],
   "source": [
    "mycircuit = Circuit()"
   ]
  },
  {
   "cell_type": "markdown",
   "id": "d2017563-2f3b-47ea-9adb-88f012225547",
   "metadata": {},
   "source": [
    "You can now add gates to your circuits. \n",
    "To do this you can call a function which corresponds to the gate you want to add to you circuit. The arguement of of the function call will also indicate which qubit you want to add that gate to. For example:"
   ]
  },
  {
   "cell_type": "code",
   "execution_count": 22,
   "id": "b4123b3d-6f14-4abc-ae4e-76c89757c3ab",
   "metadata": {},
   "outputs": [
    {
     "name": "stdout",
     "output_type": "stream",
     "text": [
      "T  : |0|\n",
      "        \n",
      "q0 : -H-\n",
      "\n",
      "T  : |0|\n"
     ]
    }
   ],
   "source": [
    "mycircuit.h(0)\n",
    "print(mycircuit)"
   ]
  },
  {
   "cell_type": "markdown",
   "id": "15402f7c-56c5-4f69-bc7a-3cf78afe12b3",
   "metadata": {},
   "source": [
    "add a Hadamard Gate to the Qubit 0. and"
   ]
  },
  {
   "cell_type": "code",
   "execution_count": 23,
   "id": "405a04ec-b0f8-4a4b-8601-bc4332725709",
   "metadata": {},
   "outputs": [
    {
     "name": "stdout",
     "output_type": "stream",
     "text": [
      "T  : |0|\n",
      "        \n",
      "q0 : -H-\n",
      "        \n",
      "q1 : -X-\n",
      "\n",
      "T  : |0|\n"
     ]
    }
   ],
   "source": [
    "mycircuit.x(1)\n",
    "print(mycircuit)"
   ]
  },
  {
   "cell_type": "markdown",
   "id": "87b67c20-c20a-4d92-a849-80ba1ca18e2a",
   "metadata": {},
   "source": [
    "add a X gate (Pauli-X) gate to the first Qubit. Note : See Pauli Gates for more info https://en.wikipedia.org/wiki/Quantum_logic_gate#Pauli_gates_(X,Y,Z)\n",
    "\n",
    "\n",
    "As you can see you can print the circuit object to get an representation of you circuit."
   ]
  },
  {
   "cell_type": "markdown",
   "id": "7010d308-24ae-4e4c-a39c-d8920f1b94a5",
   "metadata": {},
   "source": [
    "Braket has a number of Quantum Gates which have been implemented. To list the number of gates you can use run the following code. "
   ]
  },
  {
   "cell_type": "code",
   "execution_count": 33,
   "id": "46d1b96e-9b58-4685-a602-e199d737cddf",
   "metadata": {},
   "outputs": [
    {
     "name": "stdout",
     "output_type": "stream",
     "text": [
      "CCNot\n",
      "CNot\n",
      "CPhaseShift\n",
      "CPhaseShift00\n",
      "CPhaseShift01\n",
      "CPhaseShift10\n",
      "CSwap\n",
      "CY\n",
      "CZ\n",
      "H\n",
      "I\n",
      "ISwap\n",
      "PSwap\n",
      "PhaseShift\n",
      "Rx\n",
      "Ry\n",
      "Rz\n",
      "S\n",
      "Si\n",
      "Swap\n",
      "T\n",
      "Ti\n",
      "Unitary\n",
      "V\n",
      "Vi\n",
      "X\n",
      "XX\n",
      "XY\n",
      "Y\n",
      "YY\n",
      "Z\n",
      "ZZ\n"
     ]
    }
   ],
   "source": [
    "def listGates():\n",
    "    for gate in dir(Gate):    \n",
    "        if gate[0].isupper():\n",
    "            print(gate)\n",
    "listGates()"
   ]
  },
  {
   "cell_type": "markdown",
   "id": "ad73374e-632c-4151-91c4-e7630f8881d7",
   "metadata": {},
   "source": [
    "# Running your Circuit on a Simulator"
   ]
  },
  {
   "cell_type": "markdown",
   "id": "f5c2d87c-ae6d-4e8f-b2a5-baa710a43700",
   "metadata": {},
   "source": [
    "You can run your circuit on the device object you created earlier as below."
   ]
  },
  {
   "cell_type": "code",
   "execution_count": 27,
   "id": "d37cfe04-e981-4ce4-b1b7-13cae38062be",
   "metadata": {},
   "outputs": [],
   "source": [
    "run = device.run(mycircuit, shots=100)"
   ]
  },
  {
   "cell_type": "markdown",
   "id": "2e12563d-7094-42ce-9144-4ce0304d44e4",
   "metadata": {},
   "source": [
    "One you have run you circuit, you can review the results using the results() method. This will provide all the data at once."
   ]
  },
  {
   "cell_type": "code",
   "execution_count": null,
   "id": "f2690d04-641b-40b6-978b-07c4e6a51cec",
   "metadata": {},
   "outputs": [],
   "source": [
    "run.result()"
   ]
  },
  {
   "cell_type": "markdown",
   "id": "eed6434d-93b9-465d-ab1b-5db2ee967b4b",
   "metadata": {},
   "source": [
    "You can specify what part of the result you want to see to make reviewing easier as below. "
   ]
  },
  {
   "cell_type": "code",
   "execution_count": 30,
   "id": "43758e3a-f8ae-4c6c-90a5-3772b256a060",
   "metadata": {},
   "outputs": [
    {
     "data": {
      "text/plain": [
       "Counter({'11': 49, '01': 51})"
      ]
     },
     "execution_count": 30,
     "metadata": {},
     "output_type": "execute_result"
    }
   ],
   "source": [
    "result = run.result() # Just adding it to a variable to make the code easy to read\n",
    "result.measurement_counts"
   ]
  },
  {
   "cell_type": "markdown",
   "id": "fa7849e8-8335-4162-a5c5-b6ed141fff79",
   "metadata": {},
   "source": [
    "In the above call we are reviewing the counts of what the output measurement was. In my run (yours may vary) I have 49 runs coming out with a Qubit0 = 1 and Qubit1 =1 and 51 runs where Qubit0 = 1 and Qubit1 = 1. "
   ]
  },
  {
   "cell_type": "markdown",
   "id": "5406a194-c300-4a89-8aa1-4d302deea71e",
   "metadata": {
    "tags": []
   },
   "source": [
    "# Plotting your results\n",
    "\n",
    "You can plot your measurements in a nice bar graph using matplotlib"
   ]
  },
  {
   "cell_type": "code",
   "execution_count": 36,
   "id": "cdc9574f-c79b-42d5-a5cb-87ae6dfa0776",
   "metadata": {},
   "outputs": [],
   "source": [
    "import matplotlib.pyplot as plt\n",
    "# import seaborn as sns"
   ]
  },
  {
   "cell_type": "code",
   "execution_count": 37,
   "id": "9955a574-0386-4693-a857-1feb49020809",
   "metadata": {},
   "outputs": [],
   "source": [
    "counts = result.measurement_counts"
   ]
  },
  {
   "cell_type": "code",
   "execution_count": 40,
   "id": "f5a88b1e-3f76-4247-b492-2b9dab9a2271",
   "metadata": {},
   "outputs": [
    {
     "data": {
      "text/plain": [
       "Text(0, 0.5, 'counts')"
      ]
     },
     "execution_count": 40,
     "metadata": {},
     "output_type": "execute_result"
    },
    {
     "data": {
      "image/png": "[encoded data removed]",
      "text/plain": [
       "<Figure size 432x288 with 1 Axes>"
      ]
     },
     "metadata": {
      "needs_background": "light"
     },
     "output_type": "display_data"
    }
   ],
   "source": [
    "# sns.set_theme(style=\"white\")\n",
    "plt.bar(counts.keys(), counts.values(), alpha=0.5, color='darkorange')\n",
    "plt.title(\"My Circuits Results\")\n",
    "plt.xlabel('bitstrings')\n",
    "plt.ylabel('counts')"
   ]
  }
 ],
 "metadata": {
  "kernelspec": {
   "display_name": "Python 3 (ipykernel)",
   "language": "python",
   "name": "python3"
  },
  "language_info": {
   "codemirror_mode": {
    "name": "ipython",
    "version": 3
   },
   "file_extension": ".py",
   "mimetype": "text/x-python",
   "name": "python",
   "nbconvert_exporter": "python",
   "pygments_lexer": "ipython3",
   "version": "3.9.5"
  }
 },
 "nbformat": 4,
 "nbformat_minor": 5
}
